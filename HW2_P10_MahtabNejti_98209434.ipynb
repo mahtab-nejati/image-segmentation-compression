{
 "cells": [
  {
   "cell_type": "markdown",
   "metadata": {},
   "source": [
    "# Mahtab Nejati 98209434"
   ]
  },
  {
   "cell_type": "markdown",
   "metadata": {},
   "source": [
    "# Problem 10"
   ]
  },
  {
   "cell_type": "markdown",
   "metadata": {},
   "source": [
    "# NOTICE:\n",
    "# DO NOT USE FOR GRAY SCALE PICS (Use code for Problem 09 instead)\n",
    "# Download the \"pics\" folder from the google drive link and save it in the current directory as the input."
   ]
  },
  {
   "cell_type": "code",
   "execution_count": 1,
   "metadata": {},
   "outputs": [],
   "source": [
    "from pyspark import SparkContext\n",
    "from pyspark.sql import SQLContext\n",
    "from pyspark.sql.functions import *\n",
    "from pyspark.sql.window import Window\n",
    "MAX_MEMORY = \"8g\"\n",
    "spark = SparkSession.builder.appName('App Name').master(\"local[*]\").config(\"spark.executor.memory\", MAX_MEMORY) \\\n",
    "    .config(\"spark.driver.memory\", MAX_MEMORY).getOrCreate()\n",
    "sqlc = SQLContext(sparkContext=spark.sparkContext, sparkSession=spark)"
   ]
  },
  {
   "cell_type": "code",
   "execution_count": 2,
   "metadata": {},
   "outputs": [],
   "source": [
    "from PIL import Image\n",
    "from numpy import sqrt, square, floor,random\n",
    "import numpy as np\n",
    "import pandas as pd\n",
    "from matplotlib import pyplot as plt\n",
    "from time import time\n",
    "from os import listdir,makedirs\n",
    "from os.path import isfile, join\n",
    "import pickle"
   ]
  },
  {
   "cell_type": "markdown",
   "metadata": {},
   "source": [
    "# Reading in an image file and converting to rdd"
   ]
  },
  {
   "cell_type": "code",
   "execution_count": 3,
   "metadata": {},
   "outputs": [],
   "source": [
    "def getResizedImage(image):\n",
    "    w = 250\n",
    "    alpha = float(w)/image.size[0]\n",
    "    h = int((float(image.size[1])*float(alpha)))\n",
    "    img = image.resize((w,h), Image.ANTIALIAS)\n",
    "    return img\n",
    "\n",
    "def getRGBImage(image_path):\n",
    "    img = Image.open(image_path).convert(\"RGB\")\n",
    "    img = getResizedImage(img)\n",
    "    pix = img.load()\n",
    "    img_w = img.size[0]\n",
    "    img_h = img.size[1]\n",
    "    to_rdd = []\n",
    "    for i in range(img_w):\n",
    "        for j in range(img_h):\n",
    "            to_rdd.append([i,j,(pix[i,j])])\n",
    "\n",
    "    img_rdd = sc.parallelize(to_rdd)\n",
    "    \n",
    "    return img,img_rdd"
   ]
  },
  {
   "cell_type": "markdown",
   "metadata": {},
   "source": [
    "# Euclidean Distance"
   ]
  },
  {
   "cell_type": "code",
   "execution_count": 4,
   "metadata": {},
   "outputs": [],
   "source": [
    "def getDistance(a,b):\n",
    "    arrA = np.asanyarray(a)\n",
    "    arrB = np.asanyarray(b)\n",
    "    return sqrt(square(arrA-arrB).sum())"
   ]
  },
  {
   "cell_type": "markdown",
   "metadata": {},
   "source": [
    "# Choosing the initial centroids\n",
    "### I have chosen to initialize the K centorids by selecting pixels scattered on th image."
   ]
  },
  {
   "cell_type": "code",
   "execution_count": 5,
   "metadata": {},
   "outputs": [],
   "source": [
    "def initMeans(k,image):\n",
    "    pix = image.load()\n",
    "    img_w = image.size[0]\n",
    "    img_h = image.size[1]\n",
    "    \n",
    "    f = int(floor(sqrt(k)))\n",
    "\n",
    "    means = []\n",
    "\n",
    "    w_step = int(floor(img_w/f))\n",
    "    h_step = int(floor(img_h/f))\n",
    "    for i in range(f):\n",
    "        for j in range(f):\n",
    "            w = int(floor((i+0.5)*w_step))\n",
    "            h = int(floor((j+0.5)*h_step))\n",
    "            new = pix[w,h]\n",
    "            if new not in means:\n",
    "                means.append(new)\n",
    "\n",
    "    count = 0\n",
    "    while(len(means) != k):\n",
    "        count+=1\n",
    "        w = random.randint(0,img_w)\n",
    "        h = random.randint(0,img_h)\n",
    "        new = pix[w,h]\n",
    "        if new not in means or count <= 4*(k-square(f)):\n",
    "            means.append(new)\n",
    "    return means"
   ]
  },
  {
   "cell_type": "markdown",
   "metadata": {},
   "source": [
    "# K-means algorithm"
   ]
  },
  {
   "cell_type": "code",
   "execution_count": 6,
   "metadata": {},
   "outputs": [],
   "source": [
    "def assignToCluster(row,means):\n",
    "    cluster = 0\n",
    "    dist = getDistance(row[-1],means[0])\n",
    "    for i in range(1,len(means)):\n",
    "        if getDistance(row[-1],means[i]) < dist:\n",
    "            cluster = i\n",
    "            dist = getDistance(row[-1],means[i])\n",
    "    return (cluster),tuple(row)\n",
    "\n",
    "\n",
    "def kMeans(rdd,initMeans,k,limit=10):\n",
    "    newMeans = initMeans\n",
    "    done = False\n",
    "    count = 0\n",
    "    while not done or count<=limit:\n",
    "        means = newMeans\n",
    "        assigned = rdd.map(lambda row: assignToCluster(row,means))\n",
    "        newMeans = assigned.map(\n",
    "            lambda row: (row[0],np.asarray(list(row[1][-1])+[1]))).reduceByKey(\n",
    "            lambda a,b: a.copy()+b.copy()).map(\n",
    "            lambda row: tuple((row[1][:-1].copy().astype(np.float)/row[1][-1]).astype(np.int))).collect()\n",
    "        done = set(means) == set (newMeans)\n",
    "        count += 1\n",
    "        \n",
    "    newImg = assigned.map(lambda row : (row[1][0],row[1][1],row[0])).collect()\n",
    "    return newImg,means"
   ]
  },
  {
   "cell_type": "markdown",
   "metadata": {},
   "source": [
    "# Create compressed image"
   ]
  },
  {
   "cell_type": "code",
   "execution_count": 7,
   "metadata": {},
   "outputs": [],
   "source": [
    "def getCompressedImage(w,h,newData):\n",
    "    newImg = np.zeros((w,h))\n",
    "    for d in newData:\n",
    "        newImg[d[0],d[1]]=d[2]\n",
    "    return newImg"
   ]
  },
  {
   "cell_type": "markdown",
   "metadata": {},
   "source": [
    "# Recover compressed image"
   ]
  },
  {
   "cell_type": "code",
   "execution_count": 8,
   "metadata": {},
   "outputs": [],
   "source": [
    "def getRecoveredImage(compressed,colors):\n",
    "    h = compressed.shape[0]\n",
    "    w = compressed.shape[1]\n",
    "    recovered = []\n",
    "    for i in range(w):\n",
    "        for j in range(h):\n",
    "            recovered.append(np.array(colors[int(compressed[j,i])]))\n",
    "    recovered = np.reshape(recovered,(w,h,3))\n",
    "    recovered = Image.fromarray(recovered.astype('uint8'), 'RGB')\n",
    "    return recovered"
   ]
  },
  {
   "cell_type": "markdown",
   "metadata": {},
   "source": [
    "# Calculate cost"
   ]
  },
  {
   "cell_type": "code",
   "execution_count": 9,
   "metadata": {},
   "outputs": [],
   "source": [
    "def getCost(rdd,means):\n",
    "    cost = rdd.map(\n",
    "        lambda row: assignToCluster(row,means)).map(\n",
    "        lambda row: getDistance(row[1][2],means[row[0]])).sum()\n",
    "    return cost"
   ]
  },
  {
   "cell_type": "markdown",
   "metadata": {},
   "source": [
    "# Execution on images"
   ]
  },
  {
   "cell_type": "code",
   "execution_count": 10,
   "metadata": {},
   "outputs": [],
   "source": [
    "def executeOnImages(ks,images):\n",
    "    results = {}\n",
    "    for image,img_path in images.items():\n",
    "        img, rdd = getRGBImage(img_path)\n",
    "        results[image] = {'img':img,\n",
    "                          'k':[],\n",
    "                          'exec_time':[],\n",
    "                          'cost':[],\n",
    "                          'comp_data':[],\n",
    "                          'rec_img':[]}\n",
    "        for k in ks:\n",
    "            results[image]['k'].append(k)\n",
    "            start = time()\n",
    "            means = initMeans(k,img)\n",
    "            imgData , centroids = kMeans(rdd,means,k)\n",
    "            end = time()\n",
    "            results[image]['exec_time'].append(end-start)\n",
    "            compressedImg = getCompressedImage(img.size[0],img.size[1],imgData)\n",
    "            results[image]['comp_data'].append(compressedImg)\n",
    "            results[image]['rec_img'].append(getRecoveredImage(compressedImg,centroids))\n",
    "            results[image]['cost'].append(getCost(rdd,centroids))\n",
    "    return results"
   ]
  },
  {
   "cell_type": "markdown",
   "metadata": {},
   "source": [
    "# NOTICE:\n",
    "### Runing the cell below will execute the algorithm for all the RGB images in directory './pics/rgb/' (6 images in total) with 10 different numbers of clusters ( k=1,2,...,9,10). \n",
    "### This will take quite some time to run (and produce enough heat to keep your room warm throughout winter. Thus, not recommended for execution during spring time.)\n",
    "### I have pickled the results into the file 'HW2_P10_MahtabNejti_98209434_Pickled' for further use. \n",
    "### You can customize the list 'ks' to test the algorithm with values of your own choice for k. \n",
    "### Also you can limit the number of images by setting value of n to the number of images you wish to work with.\n",
    "### Skip the following cell and execute the next one to load data in or uncomment the code in the cell and execute."
   ]
  },
  {
   "cell_type": "code",
   "execution_count": 11,
   "metadata": {},
   "outputs": [],
   "source": [
    "# # set the variable below to a list contaning all the values of k you with to test the algorithm with\n",
    "# ks = list(range(1,11))\n",
    "\n",
    "# # set the variable below to the number of images (<7) you wish to test the algorithm with\n",
    "# m = 6\n",
    "# images = sorted([f for f in listdir('./pics/rgb/') if isfile(join('./pics/rgb/', f))][:m])\n",
    "# imagesDict = dict(zip(images,['./pics/rgb/'+f for f in images]))\n",
    "# results = executeOnImages(ks,imagesDict)\n",
    "# with open('HW2_P10_MahtabNejti_98209434_Pickled','wb') as f:\n",
    "#     pickle.dump(results,f)"
   ]
  },
  {
   "cell_type": "code",
   "execution_count": 12,
   "metadata": {},
   "outputs": [],
   "source": [
    "images = sorted([f for f in listdir('./pics/rgb/') if isfile(join('./pics/rgb/', f))])\n",
    "with open('HW2_P10_MahtabNejti_98209434_Pickled','rb') as f:\n",
    "    results = pickle.load(f)"
   ]
  },
  {
   "cell_type": "markdown",
   "metadata": {},
   "source": [
    "# Saving the outputs"
   ]
  },
  {
   "cell_type": "code",
   "execution_count": 13,
   "metadata": {},
   "outputs": [],
   "source": [
    "# for j in range(len(images)):\n",
    "#     info = results[images[j]]\n",
    "#     dir_name = './HW2_P10_MahtabNejti_98209434_Results/pic_'+str(j+1)+'/'\n",
    "#     makedirs(dir_name,exist_ok=True)\n",
    "#     info['img'].save(dir_name+'orig.png')\n",
    "#     w=250\n",
    "#     h= info['img'].size[1]\n",
    "#     if w-h > 50:\n",
    "#         size = (12,12*(h/w))\n",
    "#     elif h-w >50:\n",
    "#         size = (12*(w/h),12)\n",
    "#     else:\n",
    "#         size = (12,12)\n",
    "#     columns = 3\n",
    "#     rows = 3\n",
    "#     fig = plt.figure(figsize = size)\n",
    "#     for i in range(1,len(info['k'])):\n",
    "#         res = info['rec_img'][i]\n",
    "#         fig.add_subplot(rows, columns,i)\n",
    "#         plt.imshow(res)\n",
    "#         plt.axis('off')\n",
    "#         plt.title('K='+str(i+1))\n",
    "#         fig.tight_layout()\n",
    "#         plt.savefig(dir_name+'all_k.png')\n",
    "#     plt.show()\n",
    "#     fig = plt.figure(figsize=(10,4))\n",
    "#     columns = 2\n",
    "#     rows = 1\n",
    "#     fig.add_subplot(rows,columns,1)\n",
    "#     plt.plot(info['k'],info['cost'])\n",
    "#     plt.xlabel('Num of Clusters (K)')\n",
    "#     plt.ylabel('Cost')\n",
    "#     plt.title('Cost to K')\n",
    "#     fig.add_subplot(rows,columns,2)\n",
    "#     plt.plot(info['k'],info['exec_time'])\n",
    "#     plt.xlabel('Num of Clusters (K)')\n",
    "#     plt.ylabel('Execution Time (sec)')\n",
    "#     plt.title('Time to K')\n",
    "#     fig.tight_layout()\n",
    "#     plt.savefig(dir_name+'cost_time.png')\n",
    "#     plt.show()"
   ]
  },
  {
   "cell_type": "code",
   "execution_count": null,
   "metadata": {},
   "outputs": [],
   "source": []
  }
 ],
 "metadata": {
  "kernelspec": {
   "display_name": "Python 3",
   "language": "python",
   "name": "python3"
  },
  "language_info": {
   "codemirror_mode": {
    "name": "ipython",
    "version": 3
   },
   "file_extension": ".py",
   "mimetype": "text/x-python",
   "name": "python",
   "nbconvert_exporter": "python",
   "pygments_lexer": "ipython3",
   "version": "3.7.4"
  }
 },
 "nbformat": 4,
 "nbformat_minor": 4
}
